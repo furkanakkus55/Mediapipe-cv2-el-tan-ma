{
  "nbformat": 4,
  "nbformat_minor": 0,
  "metadata": {
    "colab": {
      "provenance": []
    },
    "kernelspec": {
      "name": "python3",
      "display_name": "Python 3"
    },
    "language_info": {
      "name": "python"
    }
  },
  "cells": [
    {
      "cell_type": "code",
      "execution_count": null,
      "metadata": {
        "id": "0Ywi604oYuiz"
      },
      "outputs": [],
      "source": [
        "import cv2\n",
        "import mediapipe as mp\n",
        "import time  # FPS hesaplaması için zaman modülünü ekledim\n",
        "\n",
        "# MediaPipe bileşenlerini başlattım\n",
        "mp_hands = mp.solutions.hands\n",
        "mp_drawing = mp.solutions.drawing_utils\n",
        "\n",
        "# Kamerayı başlattım\n",
        "kamera = cv2.VideoCapture(0)\n",
        "\n",
        "# MediaPipe eller modülünü başlattım\n",
        "hands = mp_hands.Hands(max_num_hands=2, min_detection_confidence=0.7)\n",
        "\n",
        "# FPS hesaplamak için başlangıç zamanlarını tanımladım\n",
        "onceki_zaman = 0\n",
        "simdiki_zaman = 0\n",
        "\n",
        "while True:\n",
        "    # Kameradan bir kare okudum\n",
        "    ret, frame = kamera.read()\n",
        "    if not ret:\n",
        "        print(\"Kamera görüntüsü alınamadı!\")\n",
        "        break\n",
        "\n",
        "    # Aynada kendimize bakar gibi olması için görüntüyü yatay çevirdim\n",
        "    frame = cv2.flip(frame, 1)\n",
        "\n",
        "    # OpenCV BGR formatını, MediaPipe için gerekli olan RGB formatına dönüştürdüm\n",
        "    rgb = cv2.cvtColor(frame, cv2.COLOR_BGR2RGB)\n",
        "\n",
        "    # RGB görüntüyü MediaPipe ile işledim\n",
        "    sonuc = hands.process(rgb)\n",
        "\n",
        "    # Eğer bir ya da daha fazla el algılanırsa çizim işlemlerini başlattım\n",
        "    if sonuc.multi_hand_landmarks:\n",
        "        for hand_landmarks in sonuc.multi_hand_landmarks:\n",
        "            # Elin kemik yapılarını ve parmak uçlarını çizdirdim\n",
        "            mp_drawing.draw_landmarks(\n",
        "                frame, hand_landmarks, mp_hands.HAND_CONNECTIONS,\n",
        "                mp_drawing.DrawingSpec(color=(0,255,0), thickness=2, circle_radius=4),  # Yeşil çizgiler\n",
        "                mp_drawing.DrawingSpec(color=(255,0,0), thickness=2)                    # Kırmızı noktalar\n",
        "            )\n",
        "\n",
        "    # FPS değerini hesaplayıp ekrana yazdırdım\n",
        "    simdiki_zaman = time.time()\n",
        "    fps = 1 / (simdiki_zaman - onceki_zaman)\n",
        "    onceki_zaman = simdiki_zaman\n",
        "    cv2.putText(frame, f'FPS: {int(fps)}', (10, 30), cv2.FONT_HERSHEY_SIMPLEX, 1, (255, 255, 0), 2)\n",
        "\n",
        "    # Görüntüyü pencereye yerleştirdim\n",
        "    cv2.imshow(\"El Takip\", frame)\n",
        "\n",
        "    # 'q' tuşuna basıldığında döngüyü kırdım ve işlemi bitirdim\n",
        "    if cv2.waitKey(1) & 0xFF == ord('q'):\n",
        "        print(\"Program sonlandırıldı.\")\n",
        "        break\n",
        "\n",
        "# Kamera ve pencere kaynaklarını temiz bir şekilde kapattım\n",
        "kamera.release()\n",
        "cv2.destroyAllWindows()\n"
      ]
    }
  ]
}